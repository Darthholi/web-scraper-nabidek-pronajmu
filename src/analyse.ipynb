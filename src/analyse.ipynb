{
 "cells": [
  {
   "cell_type": "code",
   "execution_count": 2,
   "metadata": {},
   "outputs": [],
   "source": [
    "import pandas as pd\n",
    "\n",
    "\n",
    "\n",
    "df = pd.read_parquet(\"../Kolin.parquet\")"
   ]
  },
  {
   "cell_type": "code",
   "execution_count": null,
   "metadata": {},
   "outputs": [],
   "source": [
    "display(df)"
   ]
  },
  {
   "cell_type": "code",
   "execution_count": null,
   "metadata": {},
   "outputs": [],
   "source": [
    "df.estate_type.value_counts().plot(kind='bar')\n",
    "plt.title('Estate Type Distribution')\n",
    "plt.show()\n",
    "\n",
    "\n",
    "df.offer_type.value_counts().plot(kind='bar')\n",
    "plt.title('Offer Type Distribution')\n",
    "plt.show()\n",
    "\n",
    "df.disposition.value_counts().plot(kind='bar')\n",
    "plt.title('Disposition Distribution')\n",
    "plt.show()\n",
    "\n",
    "df.energy_eff.value_counts().plot(kind='bar')\n",
    "plt.title('Energy Efficiency Distribution')\n",
    "plt.show()"
   ]
  },
  {
   "cell_type": "code",
   "execution_count": null,
   "metadata": {},
   "outputs": [],
   "source": [
    "flats = df[(df.offer_type == \"rent\") & (df.estate_type.isin([\"flat\"]))]\n",
    "# disposition\n",
    "# price\n",
    "import matplotlib.pyplot as plt\n",
    "\n",
    "flats.area.plot(kind='hist', bins=300)\n",
    "plt.title('Area Distribution')\n",
    "plt.xlabel('Area')\n",
    "plt.ylabel('Frequency')\n",
    "plt.show()\n",
    "\n",
    "flats.price.plot(kind='hist', bins=300)\n",
    "plt.title('Price Distribution')\n",
    "plt.xlabel('Price')\n",
    "plt.ylabel('Frequency')\n",
    "plt.show()\n",
    "\n",
    "flats.boxplot(column='price', by='disposition', grid=False)\n",
    "plt.title('Price Distribution by Disposition')\n",
    "plt.suptitle('')\n",
    "plt.xlabel('Disposition')\n",
    "plt.ylabel('Price')\n",
    "plt.show()\n",
    "\n",
    "\n",
    "# Remove outliers above area 250\n",
    "filtered_flats = flats[flats['area'] <= 250]\n",
    "\n",
    "plt.scatter(filtered_flats['area'], filtered_flats['price'])\n",
    "plt.title('Price vs Area (Filtered)')\n",
    "plt.xlabel('Area')\n",
    "plt.ylabel('Price')\n",
    "plt.show()\n",
    "\n",
    "flats.boxplot(column='price', by='energy_eff', grid=False)\n",
    "plt.title('Price Distribution by effs')\n",
    "plt.suptitle('')\n",
    "plt.xlabel('Disposition')\n",
    "plt.ylabel('Price')\n",
    "plt.show()\n"
   ]
  },
  {
   "cell_type": "code",
   "execution_count": null,
   "metadata": {},
   "outputs": [],
   "source": [
    "# Prices for rent/sell recalcualated by the hypo logic?\n",
    "# prices per m2\n",
    "# outliers\n",
    "\n",
    "\n",
    "# longterm:\n",
    "# how long an offer stayed on the market (vs params)\n",
    "# how quickly something disappears\n",
    "\n",
    "# cron to update"
   ]
  }
 ],
 "metadata": {
  "kernelspec": {
   "display_name": ".venv",
   "language": "python",
   "name": "python3"
  },
  "language_info": {
   "codemirror_mode": {
    "name": "ipython",
    "version": 3
   },
   "file_extension": ".py",
   "mimetype": "text/x-python",
   "name": "python",
   "nbconvert_exporter": "python",
   "pygments_lexer": "ipython3",
   "version": "3.12.8"
  }
 },
 "nbformat": 4,
 "nbformat_minor": 2
}
